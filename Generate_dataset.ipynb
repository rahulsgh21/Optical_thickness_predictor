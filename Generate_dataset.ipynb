{
 "cells": [
  {
   "cell_type": "code",
   "execution_count": 1,
   "id": "c41f110f",
   "metadata": {},
   "outputs": [],
   "source": [
    "import numpy as np\n",
    "import pandas as pd"
   ]
  },
  {
   "cell_type": "code",
   "execution_count": 2,
   "id": "70bcfd67",
   "metadata": {},
   "outputs": [],
   "source": [
    "# Number of datasets\n",
    "num_datasets = 10000"
   ]
  },
  {
   "cell_type": "code",
   "execution_count": 3,
   "id": "9ba8e28c",
   "metadata": {},
   "outputs": [],
   "source": [
    "# Generating random refractive indices and thicknesses\n",
    "refractive_indices = np.random.rand(num_datasets, 4)\n",
    "thicknesses = np.random.rand(num_datasets, 4)"
   ]
  },
  {
   "cell_type": "code",
   "execution_count": 4,
   "id": "4d213f0d",
   "metadata": {},
   "outputs": [],
   "source": [
    "# Creating the DataFrame\n",
    "data = pd.DataFrame()\n",
    "data['Refractive Indices'] = [','.join(map(str, row)) for row in refractive_indices]\n",
    "data['Thicknesses'] = [','.join(map(str, row)) for row in thicknesses]"
   ]
  },
  {
   "cell_type": "code",
   "execution_count": 5,
   "id": "d6cf9764",
   "metadata": {},
   "outputs": [
    {
     "name": "stdout",
     "output_type": "stream",
     "text": [
      "Dataset saved as optical_dataset.csv\n"
     ]
    }
   ],
   "source": [
    "# Saving the dataset to a CSV file\n",
    "data.to_csv('optical_multilayer_dataset.csv', index=False)"
   ]
  },
  {
   "cell_type": "code",
   "execution_count": null,
   "id": "5f14b513",
   "metadata": {},
   "outputs": [],
   "source": []
  }
 ],
 "metadata": {
  "kernelspec": {
   "display_name": "Python 3 (ipykernel)",
   "language": "python",
   "name": "python3"
  },
  "language_info": {
   "codemirror_mode": {
    "name": "ipython",
    "version": 3
   },
   "file_extension": ".py",
   "mimetype": "text/x-python",
   "name": "python",
   "nbconvert_exporter": "python",
   "pygments_lexer": "ipython3",
   "version": "3.9.16"
  }
 },
 "nbformat": 4,
 "nbformat_minor": 5
}
